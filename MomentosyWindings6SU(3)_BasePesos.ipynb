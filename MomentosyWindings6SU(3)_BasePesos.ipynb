{
 "cells": [
  {
   "cell_type": "markdown",
   "id": "da98cda3",
   "metadata": {},
   "source": [
    "# Algunas cuentitas para la rep $6$ de $SU(3)$ _en la base de pesos_"
   ]
  },
  {
   "cell_type": "markdown",
   "id": "e61eed76",
   "metadata": {},
   "source": [
    "Queremos calcular los momentos y windings de todos los estados para eventualmente calcular las $\\tilde{f}_{abc}$ que aparecen en las derivadas covariantes y variaciones de interpolation.\n",
    "\n",
    "Tenemos todos los estados en la base de pesos y en la base de raíces, pero para poder hacer momentos y windings necesitamos calcular los momentos right. Para hacerlo, primero calculamos usando la LMC el cuadrado del momento right.\n",
    "\n",
    "de LMC sabemos que\n",
    "\n",
    "$\\frac{1}{2}\\left(l^{m}_{L}\\alpha_{m}\\right)^{2} - \\frac{1}{2}\\left(l^{m}_{R}\\alpha_{m}\\right)^{2} = 1- N$\n",
    "\n",
    "donde $N$ es el número de osciladores left (0,1), y $l^{m}_{L}$ son las componentes de cada estado en la base de raíces simples (análogamente para el right).\n",
    "\n",
    "Ahora pasemos a la base de pesos.\n",
    "\n",
    "Si llamamos $(l_{1L},l_{2L}) = (a,b)$ a dichas componentes por simplicidad, puede verse que la expresión anterior se reescribe como\n",
    "\n",
    "$\\left(l_{mR} \\omega_{m} \\right)^{2} = \\frac{2}{3}(a^{2}  + b^{2} + ab) - 2$\n",
    "\n",
    "para los estados $s = 1,3,6$ con $N_{s}=0$, y \n",
    "\n",
    "$\\left(l_{mR} \\omega_{m} \\right)^{2} =  \\frac{2}{3}(a^{2}  + b^{2} + ab)$\n",
    "\n",
    "para los estados $s = 2,4,5$ con $N_{s}=1$. "
   ]
  },
  {
   "cell_type": "code",
   "execution_count": 7,
   "id": "8bdd6ad6",
   "metadata": {},
   "outputs": [],
   "source": [
    "-- Function to calculate (2/3)*(a^2 b^2 + ab) - 2 i.e. right momentum squared for charged scalars\n",
    "-- I multiply by 3 to avoid getting decimals, the result should be 2/3, so with this modification it goes to 2.\n",
    "calcLR1_3_6 :: (Double, Double) -> Double\n",
    "calcLR1_3_6 (a, b) = \n",
    "  2*(a^2 + b^2 + a*b)- 6\n",
    "\n",
    "-- Function to calculate (2/3)*(a^2 + b^2 + a*b) i.e. right momentum squared for cartan scalars\n",
    "calcLR2_4_5 :: (Double, Double) -> Double\n",
    "calcLR2_4_5 (a, b) = \n",
    "  2*(a^2 + b^2 + a*b) \n",
    "\n",
    "main1 :: IO ()\n",
    "main1 = do\n",
    "  let results = [\n",
    "        (\"LR1\", calcLR1_3_6 (2,0), (2,0)),\n",
    "        (\"LR3\", calcLR1_3_6 (-2,2), (-2,2)),\n",
    "        (\"LR6\", calcLR1_3_6 (0,-2), (0,-2)),\n",
    "        (\"LR2\", calcLR2_4_5 (0,1), (0,1)),\n",
    "        (\"LR4\", calcLR2_4_5 (1,-1), (1,-1)),\n",
    "        (\"LR5\", calcLR2_4_5 (-1,0), (-1,0))\n",
    "         ]\n",
    "  \n",
    "  mapM_ (\\(label, value, tuple) -> putStrLn $ label ++ \" = \" ++ show value ++ \" for \" ++ show tuple) results\n"
   ]
  },
  {
   "cell_type": "code",
   "execution_count": 8,
   "id": "6b8bf2bf",
   "metadata": {},
   "outputs": [
    {
     "data": {
      "text/plain": [
       "LR1 = 2.0 for (2,0)\n",
       "LR3 = 2.0 for (-2,2)\n",
       "LR6 = 2.0 for (0,-2)\n",
       "LR2 = 2.0 for (0,1)\n",
       "LR4 = 2.0 for (1,-1)\n",
       "LR5 = 2.0 for (-1,0)"
      ]
     },
     "metadata": {},
     "output_type": "display_data"
    }
   ],
   "source": [
    "main1"
   ]
  },
  {
   "cell_type": "markdown",
   "id": "a6342240",
   "metadata": {},
   "source": [
    "Sabiendo cuánto valen los momentos right cuadrados, podemos ahora buscar cuáles son los valores $l^{m}_{R}$, que podrían o no ser todos iguales para los 6 estados (con esta cuenta no basta para discernir más que aquellos plausibles). Si llamamos $(x,y,z) = (l^{1}_{R},l^{2}_{R})$, vemos que las componentes en la base de pesos fundamentales del momento right deben satisfacer\n",
    "\n",
    "$\\frac{2}{3}(x^2 + y^2 + xy)= \\frac{2}{3}$,\n",
    "\n",
    "that is,\n",
    "\n",
    "$(x^2 + y^2 + xy)= 1$"
   ]
  },
  {
   "cell_type": "code",
   "execution_count": 9,
   "id": "c5ce1811",
   "metadata": {},
   "outputs": [
    {
     "data": {
      "text/html": [
       "<style>/* Styles used for the Hoogle display in the pager */\n",
       ".hoogle-doc {\n",
       "display: block;\n",
       "padding-bottom: 1.3em;\n",
       "padding-left: 0.4em;\n",
       "}\n",
       ".hoogle-code {\n",
       "display: block;\n",
       "font-family: monospace;\n",
       "white-space: pre;\n",
       "}\n",
       ".hoogle-text {\n",
       "display: block;\n",
       "}\n",
       ".hoogle-name {\n",
       "color: green;\n",
       "font-weight: bold;\n",
       "}\n",
       ".hoogle-head {\n",
       "font-weight: bold;\n",
       "}\n",
       ".hoogle-sub {\n",
       "display: block;\n",
       "margin-left: 0.4em;\n",
       "}\n",
       ".hoogle-package {\n",
       "font-weight: bold;\n",
       "font-style: italic;\n",
       "}\n",
       ".hoogle-module {\n",
       "font-weight: bold;\n",
       "}\n",
       ".hoogle-class {\n",
       "font-weight: bold;\n",
       "}\n",
       ".get-type {\n",
       "color: green;\n",
       "font-weight: bold;\n",
       "font-family: monospace;\n",
       "display: block;\n",
       "white-space: pre-wrap;\n",
       "}\n",
       ".show-type {\n",
       "color: green;\n",
       "font-weight: bold;\n",
       "font-family: monospace;\n",
       "margin-left: 1em;\n",
       "}\n",
       ".mono {\n",
       "font-family: monospace;\n",
       "display: block;\n",
       "}\n",
       ".err-msg {\n",
       "color: red;\n",
       "font-style: italic;\n",
       "font-family: monospace;\n",
       "white-space: pre;\n",
       "display: block;\n",
       "}\n",
       "#unshowable {\n",
       "color: red;\n",
       "font-weight: bold;\n",
       "}\n",
       ".err-msg.in.collapse {\n",
       "padding-top: 0.7em;\n",
       "}\n",
       ".highlight-code {\n",
       "white-space: pre;\n",
       "font-family: monospace;\n",
       "}\n",
       ".suggestion-warning { \n",
       "font-weight: bold;\n",
       "color: rgb(200, 130, 0);\n",
       "}\n",
       ".suggestion-error { \n",
       "font-weight: bold;\n",
       "color: red;\n",
       "}\n",
       ".suggestion-name {\n",
       "font-weight: bold;\n",
       "}\n",
       "</style><div class=\"suggestion-name\" style=\"clear:both;\">Redundant list comprehension</div><div class=\"suggestion-row\" style=\"float: left;\"><div class=\"suggestion-warning\">Found:</div><div class=\"highlight-code\" id=\"haskell\">[n | n <- [start .. end]]</div></div><div class=\"suggestion-row\" style=\"float: left;\"><div class=\"suggestion-warning\">Why Not:</div><div class=\"highlight-code\" id=\"haskell\">[start .. end]</div></div>"
      ],
      "text/plain": [
       "Line 14: Redundant list comprehension\n",
       "Found:\n",
       "[n | n <- [start .. end]]\n",
       "Why not:\n",
       "[start .. end]"
      ]
     },
     "metadata": {},
     "output_type": "display_data"
    }
   ],
   "source": [
    "-- Haskell program to find integer solutions (x, y) to the equation:\n",
    "-- (x^2 + y^2 + xy)= 1\n",
    "\n",
    "\n",
    "-- Function to check if the given (x, y) satisfies the equation\n",
    "satisfiesEquation :: Integer -> Integer -> Bool\n",
    "satisfiesEquation x y = x^2 + y^2 + x*y == 1\n",
    "\n",
    "-- Function to generate all integer numbers within a given range\n",
    "generateIntegers :: Integer -> Integer -> [Integer]\n",
    "generateIntegers start end = [n | n <- [start..end]]\n",
    "\n",
    "-- Main function to find the first three solutions\n",
    "findSolutions :: Integer -> Integer -> [(Integer, Integer)]\n",
    "findSolutions start end = take 20 [(x, y) | x <- integers, y <- integers, satisfiesEquation x y]\n",
    "  where\n",
    "    integers = generateIntegers start end\n",
    "\n",
    "-- Print the solutions\n",
    "main2 :: IO ()\n",
    "main2 = do\n",
    "    let solutions = findSolutions (-10) 10\n",
    "    mapM_ print solutions\n"
   ]
  },
  {
   "cell_type": "code",
   "execution_count": 10,
   "id": "dbc6f7a6",
   "metadata": {},
   "outputs": [
    {
     "data": {
      "text/plain": [
       "(-1,0)\n",
       "(-1,1)\n",
       "(0,-1)\n",
       "(0,1)\n",
       "(1,-1)\n",
       "(1,0)"
      ]
     },
     "metadata": {},
     "output_type": "display_data"
    }
   ],
   "source": [
    "main2"
   ]
  },
  {
   "cell_type": "code",
   "execution_count": null,
   "id": "7bc68044",
   "metadata": {},
   "outputs": [],
   "source": [
    "-- Import necessary modules\n",
    "import Control.Monad (guard)\n",
    "\n",
    "-- Function to find solutions\n",
    "findSolutions :: [(Integer, Integer)] -> [(Int, Int, Int, Int, (Integer, Integer))]\n",
    "findSolutions targets = do\n",
    "    -- Define the range for variables\n",
    "    n1 <- [-10..10]\n",
    "    n2 <- [-10..10]\n",
    "    w1 <- [-10..10]\n",
    "    w2 <- [-10..10]\n",
    "    \n",
    "    -- Calculate the left and right equations\n",
    "    let l1L = fromIntegral (w1 + n1)\n",
    "        l2L = fromIntegral (-w1+w2+n2)\n",
    "        \n",
    "        l1R = fromIntegral (-w1+w2+n1)\n",
    "        l2R = fromIntegral (-w2+n2)\n",
    "       \n",
    "    -- Check the right equations\n",
    "    guard (l1R == -1 && l2R == 0)\n",
    "    -- this one corresponds to the one used on interpolation, which is [q_r]_\\alpha=(-2/3, -1/3) in the root basis.\n",
    "    -- For SU(3), we have that \\alpha_1 = 2\\omega_1 - \\omega_2; \\alpha_2=-\\omega_1 + 2\\omega_2\n",
    "\n",
    "    -- Check if any of the left equations match the target tuples\n",
    "    target <- targets\n",
    "    guard (l1L == fst3 target && l2L == snd3 target)\n",
    "\n",
    "    -- Return the solution tuple along with the target\n",
    "    return (n1, n2, w1, w2, target)\n",
    "  where\n",
    "    fst3 (x, _) = x\n",
    "    snd3 (_, y) = y\n",
    "    \n",
    "-- Main function to print the solutions\n",
    "main3 :: IO ()\n",
    "main3 = do\n",
    "    -- Define the target tuples for the left equations\n",
    "    let targets = [ (2,0)\n",
    "                  , (0,1)\n",
    "                  , (-2,2)\n",
    "                  , (1,-1)\n",
    "                  , (-1,0)\n",
    "                  , (0,-2)\n",
    "                  ]\n",
    "\n",
    "    -- Find and print the solutions\n",
    "    let solutions = take 10 $ findSolutions targets\n",
    "    mapM_ printSolution solutions\n",
    "  where\n",
    "    -- Function to print each solution with its corresponding target\n",
    "    printSolution (n1, n2, w1, w2, target) = do\n",
    "        putStrLn $ \"Solution: (n1, n2, w1, w2) = \" ++ show (n1, n2, w1, w2)\n",
    "        putStrLn $ \"Corresponding to left equation results: \" ++ show target\n",
    "        putStrLn \"\"\n",
    "\n"
   ]
  },
  {
   "cell_type": "code",
   "execution_count": null,
   "id": "9a847583",
   "metadata": {},
   "outputs": [
    {
     "data": {
      "text/plain": [
       "Solution: (n1, n2, w1, w2) = (-2,1,0,1)\n",
       "Corresponding to left equation results: (-2,2)\n",
       "\n",
       "Solution: (n1, n2, w1, w2) = (-1,0,0,0)\n",
       "Corresponding to left equation results: (-1,0)\n",
       "\n",
       "Solution: (n1, n2, w1, w2) = (-1,1,1,1)\n",
       "Corresponding to left equation results: (0,1)\n",
       "\n",
       "Solution: (n1, n2, w1, w2) = (0,-1,0,-1)\n",
       "Corresponding to left equation results: (0,-2)\n",
       "\n",
       "Solution: (n1, n2, w1, w2) = (0,0,1,0)\n",
       "Corresponding to left equation results: (1,-1)\n",
       "\n",
       "Solution: (n1, n2, w1, w2) = (0,1,2,1)\n",
       "Corresponding to left equation results: (2,0)"
      ]
     },
     "metadata": {},
     "output_type": "display_data"
    }
   ],
   "source": [
    "main3"
   ]
  },
  {
   "cell_type": "code",
   "execution_count": null,
   "id": "e74d7182",
   "metadata": {},
   "outputs": [],
   "source": []
  }
 ],
 "metadata": {
  "kernelspec": {
   "display_name": "Haskell",
   "language": "haskell",
   "name": "haskell"
  },
  "language_info": {
   "codemirror_mode": "ihaskell",
   "file_extension": ".hs",
   "mimetype": "text/x-haskell",
   "name": "haskell",
   "pygments_lexer": "Haskell",
   "version": "8.10.7"
  }
 },
 "nbformat": 4,
 "nbformat_minor": 5
}
